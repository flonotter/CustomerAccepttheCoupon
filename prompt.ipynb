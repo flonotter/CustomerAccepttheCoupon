{
 "cells": [
  {
   "cell_type": "markdown",
   "metadata": {},
   "source": [
    "### Will a Customer Accept the Coupon?\n",
    "\n",
    "**Context**\n",
    "\n",
    "Imagine driving through town and a coupon is delivered to your cell phone for a restaraunt near where you are driving. Would you accept that coupon and take a short detour to the restaraunt? Would you accept the coupon but use it on a sunbsequent trip? Would you ignore the coupon entirely? What if the coupon was for a bar instead of a restaraunt? What about a coffee house? Would you accept a bar coupon with a minor passenger in the car? What about if it was just you and your partner in the car? Would weather impact the rate of acceptance? What about the time of day?\n",
    "\n",
    "Obviously, proximity to the business is a factor on whether the coupon is delivered to the driver or not, but what are the factors that determine whether a driver accepts the coupon once it is delivered to them? How would you determine whether a driver is likely to accept a coupon?\n",
    "\n",
    "**Overview**\n",
    "\n",
    "The goal of this project is to use what you know about visualizations and probability distributions to distinguish between customers who accepted a driving coupon versus those that did not.\n",
    "\n",
    "**Data**\n",
    "\n",
    "This data comes to us from the UCI Machine Learning repository and was collected via a survey on Amazon Mechanical Turk. The survey describes different driving scenarios including the destination, current time, weather, passenger, etc., and then ask the person whether he will accept the coupon if he is the driver. Answers that the user will drive there ‘right away’ or ‘later before the coupon expires’ are labeled as ‘Y = 1’ and answers ‘no, I do not want the coupon’ are labeled as ‘Y = 0’.  There are five different types of coupons -- less expensive restaurants (under \\\\$20), coffee houses, carry out & take away, bar, and more expensive restaurants (\\\\$20 - \\\\$50). "
   ]
  },
  {
   "cell_type": "markdown",
   "metadata": {},
   "source": [
    "**Deliverables**\n",
    "\n",
    "Your final product should be a brief report that highlights the differences between customers who did and did not accept the coupons.  To explore the data you will utilize your knowledge of plotting, statistical summaries, and visualization using Python. You will publish your findings in a public facing github repository as your first portfolio piece. \n",
    "\n",
    "\n",
    "\n"
   ]
  },
  {
   "cell_type": "markdown",
   "metadata": {},
   "source": [
    "### Data Description\n",
    "Keep in mind that these values mentioned below are average values.\n",
    "\n",
    "The attributes of this data set include:\n",
    "1. User attributes\n",
    "    -  Gender: male, female\n",
    "    -  Age: below 21, 21 to 25, 26 to 30, etc.\n",
    "    -  Marital Status: single, married partner, unmarried partner, or widowed\n",
    "    -  Number of children: 0, 1, or more than 1\n",
    "    -  Education: high school, bachelors degree, associates degree, or graduate degree\n",
    "    -  Occupation: architecture & engineering, business & financial, etc.\n",
    "    -  Annual income: less than \\\\$12500, \\\\$12500 - \\\\$24999, \\\\$25000 - \\\\$37499, etc.\n",
    "    -  Number of times that he/she goes to a bar: 0, less than 1, 1 to 3, 4 to 8 or greater than 8\n",
    "    -  Number of times that he/she buys takeaway food: 0, less than 1, 1 to 3, 4 to 8 or greater\n",
    "    than 8\n",
    "    -  Number of times that he/she goes to a coffee house: 0, less than 1, 1 to 3, 4 to 8 or\n",
    "    greater than 8\n",
    "    -  Number of times that he/she eats at a restaurant with average expense less than \\\\$20 per\n",
    "    person: 0, less than 1, 1 to 3, 4 to 8 or greater than 8\n",
    "    -  Number of times that he/she goes to a bar: 0, less than 1, 1 to 3, 4 to 8 or greater than 8\n",
    "    \n",
    "\n",
    "2. Contextual attributes\n",
    "    - Driving destination: home, work, or no urgent destination\n",
    "    - Location of user, coupon and destination: we provide a map to show the geographical\n",
    "    location of the user, destination, and the venue, and we mark the distance between each\n",
    "    two places with time of driving. The user can see whether the venue is in the same\n",
    "    direction as the destination.\n",
    "    - Weather: sunny, rainy, or snowy\n",
    "    - Temperature: 30F, 55F, or 80F\n",
    "    - Time: 10AM, 2PM, or 6PM\n",
    "    - Passenger: alone, partner, kid(s), or friend(s)\n",
    "\n",
    "\n",
    "3. Coupon attributes\n",
    "    - time before it expires: 2 hours or one day"
   ]
  },
  {
   "cell_type": "code",
   "execution_count": 1,
   "metadata": {},
   "outputs": [],
   "source": [
    "import matplotlib.pyplot as plt\n",
    "import seaborn as sns\n",
    "import pandas as pd\n",
    "import numpy as np"
   ]
  },
  {
   "cell_type": "markdown",
   "metadata": {},
   "source": [
    "### Problems\n",
    "\n",
    "Use the prompts below to get started with your data analysis.  \n",
    "\n",
    "1. Read in the `coupons.csv` file.\n",
    "\n",
    "\n"
   ]
  },
  {
   "cell_type": "code",
   "execution_count": 2,
   "metadata": {},
   "outputs": [],
   "source": [
    "data = pd.read_csv('data/coupons.csv')"
   ]
  },
  {
   "cell_type": "code",
   "execution_count": 3,
   "metadata": {},
   "outputs": [
    {
     "data": {
      "text/html": [
       "<div>\n",
       "<style scoped>\n",
       "    .dataframe tbody tr th:only-of-type {\n",
       "        vertical-align: middle;\n",
       "    }\n",
       "\n",
       "    .dataframe tbody tr th {\n",
       "        vertical-align: top;\n",
       "    }\n",
       "\n",
       "    .dataframe thead th {\n",
       "        text-align: right;\n",
       "    }\n",
       "</style>\n",
       "<table border=\"1\" class=\"dataframe\">\n",
       "  <thead>\n",
       "    <tr style=\"text-align: right;\">\n",
       "      <th></th>\n",
       "      <th>destination</th>\n",
       "      <th>passanger</th>\n",
       "      <th>weather</th>\n",
       "      <th>temperature</th>\n",
       "      <th>time</th>\n",
       "      <th>coupon</th>\n",
       "      <th>expiration</th>\n",
       "      <th>gender</th>\n",
       "      <th>age</th>\n",
       "      <th>maritalStatus</th>\n",
       "      <th>...</th>\n",
       "      <th>CoffeeHouse</th>\n",
       "      <th>CarryAway</th>\n",
       "      <th>RestaurantLessThan20</th>\n",
       "      <th>Restaurant20To50</th>\n",
       "      <th>toCoupon_GEQ5min</th>\n",
       "      <th>toCoupon_GEQ15min</th>\n",
       "      <th>toCoupon_GEQ25min</th>\n",
       "      <th>direction_same</th>\n",
       "      <th>direction_opp</th>\n",
       "      <th>Y</th>\n",
       "    </tr>\n",
       "  </thead>\n",
       "  <tbody>\n",
       "    <tr>\n",
       "      <th>0</th>\n",
       "      <td>No Urgent Place</td>\n",
       "      <td>Alone</td>\n",
       "      <td>Sunny</td>\n",
       "      <td>55</td>\n",
       "      <td>2PM</td>\n",
       "      <td>Restaurant(&lt;20)</td>\n",
       "      <td>1d</td>\n",
       "      <td>Female</td>\n",
       "      <td>21</td>\n",
       "      <td>Unmarried partner</td>\n",
       "      <td>...</td>\n",
       "      <td>never</td>\n",
       "      <td>NaN</td>\n",
       "      <td>4~8</td>\n",
       "      <td>1~3</td>\n",
       "      <td>1</td>\n",
       "      <td>0</td>\n",
       "      <td>0</td>\n",
       "      <td>0</td>\n",
       "      <td>1</td>\n",
       "      <td>1</td>\n",
       "    </tr>\n",
       "    <tr>\n",
       "      <th>1</th>\n",
       "      <td>No Urgent Place</td>\n",
       "      <td>Friend(s)</td>\n",
       "      <td>Sunny</td>\n",
       "      <td>80</td>\n",
       "      <td>10AM</td>\n",
       "      <td>Coffee House</td>\n",
       "      <td>2h</td>\n",
       "      <td>Female</td>\n",
       "      <td>21</td>\n",
       "      <td>Unmarried partner</td>\n",
       "      <td>...</td>\n",
       "      <td>never</td>\n",
       "      <td>NaN</td>\n",
       "      <td>4~8</td>\n",
       "      <td>1~3</td>\n",
       "      <td>1</td>\n",
       "      <td>0</td>\n",
       "      <td>0</td>\n",
       "      <td>0</td>\n",
       "      <td>1</td>\n",
       "      <td>0</td>\n",
       "    </tr>\n",
       "    <tr>\n",
       "      <th>2</th>\n",
       "      <td>No Urgent Place</td>\n",
       "      <td>Friend(s)</td>\n",
       "      <td>Sunny</td>\n",
       "      <td>80</td>\n",
       "      <td>10AM</td>\n",
       "      <td>Carry out &amp; Take away</td>\n",
       "      <td>2h</td>\n",
       "      <td>Female</td>\n",
       "      <td>21</td>\n",
       "      <td>Unmarried partner</td>\n",
       "      <td>...</td>\n",
       "      <td>never</td>\n",
       "      <td>NaN</td>\n",
       "      <td>4~8</td>\n",
       "      <td>1~3</td>\n",
       "      <td>1</td>\n",
       "      <td>1</td>\n",
       "      <td>0</td>\n",
       "      <td>0</td>\n",
       "      <td>1</td>\n",
       "      <td>1</td>\n",
       "    </tr>\n",
       "    <tr>\n",
       "      <th>3</th>\n",
       "      <td>No Urgent Place</td>\n",
       "      <td>Friend(s)</td>\n",
       "      <td>Sunny</td>\n",
       "      <td>80</td>\n",
       "      <td>2PM</td>\n",
       "      <td>Coffee House</td>\n",
       "      <td>2h</td>\n",
       "      <td>Female</td>\n",
       "      <td>21</td>\n",
       "      <td>Unmarried partner</td>\n",
       "      <td>...</td>\n",
       "      <td>never</td>\n",
       "      <td>NaN</td>\n",
       "      <td>4~8</td>\n",
       "      <td>1~3</td>\n",
       "      <td>1</td>\n",
       "      <td>1</td>\n",
       "      <td>0</td>\n",
       "      <td>0</td>\n",
       "      <td>1</td>\n",
       "      <td>0</td>\n",
       "    </tr>\n",
       "    <tr>\n",
       "      <th>4</th>\n",
       "      <td>No Urgent Place</td>\n",
       "      <td>Friend(s)</td>\n",
       "      <td>Sunny</td>\n",
       "      <td>80</td>\n",
       "      <td>2PM</td>\n",
       "      <td>Coffee House</td>\n",
       "      <td>1d</td>\n",
       "      <td>Female</td>\n",
       "      <td>21</td>\n",
       "      <td>Unmarried partner</td>\n",
       "      <td>...</td>\n",
       "      <td>never</td>\n",
       "      <td>NaN</td>\n",
       "      <td>4~8</td>\n",
       "      <td>1~3</td>\n",
       "      <td>1</td>\n",
       "      <td>1</td>\n",
       "      <td>0</td>\n",
       "      <td>0</td>\n",
       "      <td>1</td>\n",
       "      <td>0</td>\n",
       "    </tr>\n",
       "  </tbody>\n",
       "</table>\n",
       "<p>5 rows × 26 columns</p>\n",
       "</div>"
      ],
      "text/plain": [
       "       destination  passanger weather  temperature  time  \\\n",
       "0  No Urgent Place      Alone   Sunny           55   2PM   \n",
       "1  No Urgent Place  Friend(s)   Sunny           80  10AM   \n",
       "2  No Urgent Place  Friend(s)   Sunny           80  10AM   \n",
       "3  No Urgent Place  Friend(s)   Sunny           80   2PM   \n",
       "4  No Urgent Place  Friend(s)   Sunny           80   2PM   \n",
       "\n",
       "                  coupon expiration  gender age      maritalStatus  ...  \\\n",
       "0        Restaurant(<20)         1d  Female  21  Unmarried partner  ...   \n",
       "1           Coffee House         2h  Female  21  Unmarried partner  ...   \n",
       "2  Carry out & Take away         2h  Female  21  Unmarried partner  ...   \n",
       "3           Coffee House         2h  Female  21  Unmarried partner  ...   \n",
       "4           Coffee House         1d  Female  21  Unmarried partner  ...   \n",
       "\n",
       "   CoffeeHouse CarryAway RestaurantLessThan20 Restaurant20To50  \\\n",
       "0        never       NaN                  4~8              1~3   \n",
       "1        never       NaN                  4~8              1~3   \n",
       "2        never       NaN                  4~8              1~3   \n",
       "3        never       NaN                  4~8              1~3   \n",
       "4        never       NaN                  4~8              1~3   \n",
       "\n",
       "  toCoupon_GEQ5min toCoupon_GEQ15min toCoupon_GEQ25min direction_same  \\\n",
       "0                1                 0                 0              0   \n",
       "1                1                 0                 0              0   \n",
       "2                1                 1                 0              0   \n",
       "3                1                 1                 0              0   \n",
       "4                1                 1                 0              0   \n",
       "\n",
       "  direction_opp  Y  \n",
       "0             1  1  \n",
       "1             1  0  \n",
       "2             1  1  \n",
       "3             1  0  \n",
       "4             1  0  \n",
       "\n",
       "[5 rows x 26 columns]"
      ]
     },
     "execution_count": 3,
     "metadata": {},
     "output_type": "execute_result"
    }
   ],
   "source": [
    "data.head()"
   ]
  },
  {
   "cell_type": "markdown",
   "metadata": {},
   "source": [
    "2. Investigate the dataset for missing or problematic data."
   ]
  },
  {
   "cell_type": "code",
   "execution_count": 4,
   "metadata": {},
   "outputs": [
    {
     "name": "stdout",
     "output_type": "stream",
     "text": [
      "destination                 0\n",
      "passanger                   0\n",
      "weather                     0\n",
      "temperature                 0\n",
      "time                        0\n",
      "coupon                      0\n",
      "expiration                  0\n",
      "gender                      0\n",
      "age                         0\n",
      "maritalStatus               0\n",
      "has_children                0\n",
      "education                   0\n",
      "occupation                  0\n",
      "income                      0\n",
      "car                     12576\n",
      "Bar                       107\n",
      "CoffeeHouse               217\n",
      "CarryAway                 151\n",
      "RestaurantLessThan20      130\n",
      "Restaurant20To50          189\n",
      "toCoupon_GEQ5min            0\n",
      "toCoupon_GEQ15min           0\n",
      "toCoupon_GEQ25min           0\n",
      "direction_same              0\n",
      "direction_opp               0\n",
      "Y                           0\n",
      "dtype: int64\n"
     ]
    }
   ],
   "source": [
    "# Check for Missing Values\n",
    "missing_data = data.isnull().sum()\n",
    "print(missing_data)"
   ]
  },
  {
   "cell_type": "code",
   "execution_count": 5,
   "metadata": {},
   "outputs": [
    {
     "name": "stdout",
     "output_type": "stream",
     "text": [
      "Number of duplicate rows = 74\n"
     ]
    }
   ],
   "source": [
    "# Check for Duplicates\n",
    "duplicates = data.duplicated().sum()\n",
    "print(f'Number of duplicate rows = {duplicates}')"
   ]
  },
  {
   "cell_type": "code",
   "execution_count": 6,
   "metadata": {},
   "outputs": [
    {
     "name": "stdout",
     "output_type": "stream",
     "text": [
      "destination             object\n",
      "passanger               object\n",
      "weather                 object\n",
      "temperature              int64\n",
      "time                    object\n",
      "coupon                  object\n",
      "expiration              object\n",
      "gender                  object\n",
      "age                     object\n",
      "maritalStatus           object\n",
      "has_children             int64\n",
      "education               object\n",
      "occupation              object\n",
      "income                  object\n",
      "car                     object\n",
      "Bar                     object\n",
      "CoffeeHouse             object\n",
      "CarryAway               object\n",
      "RestaurantLessThan20    object\n",
      "Restaurant20To50        object\n",
      "toCoupon_GEQ5min         int64\n",
      "toCoupon_GEQ15min        int64\n",
      "toCoupon_GEQ25min        int64\n",
      "direction_same           int64\n",
      "direction_opp            int64\n",
      "Y                        int64\n",
      "dtype: object\n"
     ]
    }
   ],
   "source": [
    "# Check Data Types\n",
    "print(data.dtypes)"
   ]
  },
  {
   "cell_type": "code",
   "execution_count": 9,
   "metadata": {},
   "outputs": [
    {
     "name": "stdout",
     "output_type": "stream",
     "text": [
      "gender\n",
      "Female    6511\n",
      "Male      6173\n",
      "Name: count, dtype: int64\n"
     ]
    }
   ],
   "source": [
    "# Validate Consistency\n",
    "print(data['gender'].value_counts())"
   ]
  },
  {
   "cell_type": "code",
   "execution_count": 8,
   "metadata": {},
   "outputs": [
    {
     "name": "stdout",
     "output_type": "stream",
     "text": [
      "['toCoupon_GEQ5min']\n"
     ]
    }
   ],
   "source": [
    "# Check for Zero Variance\n",
    "constant_columns = [col for col in data.columns if data[col].nunique() == 1]\n",
    "print(constant_columns)"
   ]
  },
  {
   "cell_type": "markdown",
   "metadata": {},
   "source": [
    "3. Decide what to do about your missing data -- drop, replace, other..."
   ]
  },
  {
   "cell_type": "code",
   "execution_count": 10,
   "metadata": {},
   "outputs": [
    {
     "name": "stdout",
     "output_type": "stream",
     "text": [
      "(108, 26)\n"
     ]
    }
   ],
   "source": [
    "# Drop rows with any missing values\n",
    "cleaned_data = data.dropna()\n",
    "\n",
    "# Check the shape of the cleaned_data to see how many rows remain\n",
    "print(cleaned_data.shape)\n"
   ]
  },
  {
   "cell_type": "markdown",
   "metadata": {},
   "source": [
    "4. What proportion of the total observations chose to accept the coupon? \n",
    "\n"
   ]
  },
  {
   "cell_type": "code",
   "execution_count": 11,
   "metadata": {},
   "outputs": [
    {
     "name": "stdout",
     "output_type": "stream",
     "text": [
      "Proportion of observations that accepted the coupon: 57.41%\n"
     ]
    }
   ],
   "source": [
    "# Calculate the proportion of observations where the coupon was accepted\n",
    "accepted_proportion = cleaned_data['Y'].mean()\n",
    "\n",
    "print(f\"Proportion of observations that accepted the coupon: {accepted_proportion:.2%}\")\n"
   ]
  },
  {
   "cell_type": "markdown",
   "metadata": {},
   "source": [
    "5. Use a bar plot to visualize the `coupon` column."
   ]
  },
  {
   "cell_type": "code",
   "execution_count": 12,
   "metadata": {},
   "outputs": [
    {
     "data": {
      "image/png": "[encoded data removed]",
      "text/plain": [
       "<Figure size 1200x600 with 1 Axes>"
      ]
     },
     "metadata": {},
     "output_type": "display_data"
    }
   ],
   "source": [
    "# Create a bar plot for the 'coupon' column\n",
    "plt.figure(figsize=(12, 6))\n",
    "sns.countplot(data=cleaned_data, x='coupon', order=cleaned_data['coupon'].value_counts().index)\n",
    "plt.title('Distribution of Coupon Types')\n",
    "plt.ylabel('Count')\n",
    "plt.xlabel('Coupon Type')\n",
    "plt.xticks(rotation=45)\n",
    "plt.tight_layout()\n",
    "plt.show()\n"
   ]
  },
  {
   "cell_type": "markdown",
   "metadata": {},
   "source": [
    "6. Use a histogram to visualize the temperature column."
   ]
  },
  {
   "cell_type": "code",
   "execution_count": 13,
   "metadata": {},
   "outputs": [
    {
     "data": {
      "image/png": "[encoded data removed]",
      "text/plain": [
       "<Figure size 1000x600 with 1 Axes>"
      ]
     },
     "metadata": {},
     "output_type": "display_data"
    }
   ],
   "source": [
    "# Create a histogram for the 'temperature' column\n",
    "plt.figure(figsize=(10, 6))\n",
    "sns.histplot(data=cleaned_data, x='temperature', bins=30, kde=True)\n",
    "plt.title('Distribution of Temperatures')\n",
    "plt.ylabel('Count')\n",
    "plt.xlabel('Temperature (°F)')\n",
    "plt.show()\n"
   ]
  },
  {
   "cell_type": "code",
   "execution_count": null,
   "metadata": {},
   "outputs": [],
   "source": []
  },
  {
   "cell_type": "code",
   "execution_count": null,
   "metadata": {},
   "outputs": [],
   "source": []
  },
  {
   "cell_type": "code",
   "execution_count": null,
   "metadata": {},
   "outputs": [],
   "source": []
  },
  {
   "cell_type": "code",
   "execution_count": null,
   "metadata": {},
   "outputs": [],
   "source": []
  },
  {
   "cell_type": "markdown",
   "metadata": {},
   "source": [
    "**Investigating the Bar Coupons**\n",
    "\n",
    "Now, we will lead you through an exploration of just the bar related coupons.  \n",
    "\n",
    "1. Create a new `DataFrame` that contains just the bar coupons.\n"
   ]
  },
  {
   "cell_type": "code",
   "execution_count": 14,
   "metadata": {},
   "outputs": [
    {
     "name": "stdout",
     "output_type": "stream",
     "text": [
      "          destination  passanger weather  temperature  time coupon expiration  \\\n",
      "1239  No Urgent Place  Friend(s)   Sunny           80  10AM    Bar         1d   \n",
      "1250             Home      Alone   Sunny           55   6PM    Bar         1d   \n",
      "1254             Work      Alone   Sunny           55   7AM    Bar         1d   \n",
      "2613  No Urgent Place     Kid(s)   Sunny           80  10AM    Bar         1d   \n",
      "2617             Home      Alone   Sunny           55   6PM    Bar         1d   \n",
      "\n",
      "      gender age    maritalStatus  ...  CoffeeHouse CarryAway  \\\n",
      "1239    Male  26           Single  ...          4~8       4~8   \n",
      "1250    Male  26           Single  ...          4~8       4~8   \n",
      "1254    Male  26           Single  ...          4~8       4~8   \n",
      "2613  Female  41  Married partner  ...          1~3       1~3   \n",
      "2617  Female  41  Married partner  ...          1~3       1~3   \n",
      "\n",
      "     RestaurantLessThan20 Restaurant20To50 toCoupon_GEQ5min toCoupon_GEQ15min  \\\n",
      "1239                  1~3            never                1                 0   \n",
      "1250                  1~3            never                1                 0   \n",
      "1254                  1~3            never                1                 1   \n",
      "2613                  1~3            less1                1                 1   \n",
      "2617                  1~3            less1                1                 0   \n",
      "\n",
      "     toCoupon_GEQ25min direction_same direction_opp  Y  \n",
      "1239                 0              0             1  1  \n",
      "1250                 0              1             0  0  \n",
      "1254                 1              0             1  0  \n",
      "2613                 0              0             1  0  \n",
      "2617                 0              1             0  0  \n",
      "\n",
      "[5 rows x 26 columns]\n"
     ]
    }
   ],
   "source": [
    "# Filter the data for only bar coupons\n",
    "bar_coupons_data = cleaned_data[cleaned_data['coupon'] == 'Bar']\n",
    "\n",
    "# Check the first few rows of the new DataFrame\n",
    "print(bar_coupons_data.head())\n"
   ]
  },
  {
   "cell_type": "markdown",
   "metadata": {},
   "source": [
    "2. What proportion of bar coupons were accepted?\n"
   ]
  },
  {
   "cell_type": "code",
   "execution_count": 15,
   "metadata": {},
   "outputs": [
    {
     "name": "stdout",
     "output_type": "stream",
     "text": [
      "Proportion of bar coupons that were accepted: 23.08%\n"
     ]
    }
   ],
   "source": [
    "# Calculate the proportion of bar coupons that were accepted\n",
    "bar_accepted_proportion = bar_coupons_data['Y'].mean()\n",
    "\n",
    "print(f\"Proportion of bar coupons that were accepted: {bar_accepted_proportion:.2%}\")\n"
   ]
  },
  {
   "cell_type": "markdown",
   "metadata": {},
   "source": [
    "3. Compare the acceptance rate between those who went to a bar 3 or fewer times a month to those who went more.\n"
   ]
  },
  {
   "cell_type": "code",
   "execution_count": 16,
   "metadata": {},
   "outputs": [
    {
     "name": "stdout",
     "output_type": "stream",
     "text": [
      "Acceptance rate for those who went to a bar 3 or fewer times a month: 0.00%\n",
      "Acceptance rate for those who went to a bar more than 3 times a month: 60.00%\n"
     ]
    }
   ],
   "source": [
    "# Splitting the DataFrame into two groups based on the 'Bar' column\n",
    "less_than_3_times = bar_coupons_data[bar_coupons_data['Bar'].isin(['never', 'less than 1', '1~3'])]\n",
    "more_than_3_times = bar_coupons_data[~bar_coupons_data['Bar'].isin(['never', 'less than 1', '1~3'])]\n",
    "\n",
    "# Calculating the acceptance rate for each group\n",
    "acceptance_rate_less_than_3 = less_than_3_times['Y'].mean()\n",
    "acceptance_rate_more_than_3 = more_than_3_times['Y'].mean()\n",
    "\n",
    "print(f\"Acceptance rate for those who went to a bar 3 or fewer times a month: {acceptance_rate_less_than_3:.2%}\")\n",
    "print(f\"Acceptance rate for those who went to a bar more than 3 times a month: {acceptance_rate_more_than_3:.2%}\")"
   ]
  },
  {
   "cell_type": "markdown",
   "metadata": {},
   "source": [
    "4. Compare the acceptance rate between drivers who go to a bar more than once a month and are over the age of 25 to the all others.  Is there a difference?\n"
   ]
  },
  {
   "cell_type": "code",
   "execution_count": 18,
   "metadata": {},
   "outputs": [
    {
     "name": "stdout",
     "output_type": "stream",
     "text": [
      "Acceptance rate for drivers who go to a bar more than once a month and are over 25: 100.00%\n",
      "Acceptance rate for all others: 9.09%\n",
      "Yes, drivers who frequent a bar more than once a month and are over 25 have a higher acceptance rate.\n"
     ]
    }
   ],
   "source": [
    "# First, create the bar_coupons DataFrame again\n",
    "bar_coupons = cleaned_data[cleaned_data['coupon'] == 'Bar']\n",
    "\n",
    "# Filter data for those who go to a bar more than once a month and are over the age of 25\n",
    "frequent_bar_visitors_over_25 = bar_coupons[(bar_coupons['Bar'].isin(['1~3', '4~8', 'gt8'])) & \n",
    "                                            (bar_coupons['age'] != 'below21') & \n",
    "                                            (bar_coupons['age'] != '21')]\n",
    "\n",
    "# Acceptance rate for frequent bar visitors over the age of 25\n",
    "acceptance_rate_frequent = frequent_bar_visitors_over_25['Y'].mean()\n",
    "\n",
    "# Acceptance rate for all others\n",
    "all_others = bar_coupons.drop(frequent_bar_visitors_over_25.index)\n",
    "acceptance_rate_others = all_others['Y'].mean()\n",
    "\n",
    "print(f\"Acceptance rate for drivers who go to a bar more than once a month and are over 25: {acceptance_rate_frequent:.2%}\")\n",
    "print(f\"Acceptance rate for all others: {acceptance_rate_others:.2%}\")\n",
    "\n",
    "# Check for a difference\n",
    "difference = acceptance_rate_frequent - acceptance_rate_others\n",
    "if difference > 0:\n",
    "    print(\"Yes, drivers who frequent a bar more than once a month and are over 25 have a higher acceptance rate.\")\n",
    "elif difference < 0:\n",
    "    print(\"Yes, all other drivers have a higher acceptance rate.\")\n",
    "else:\n",
    "    print(\"No, there's no difference in acceptance rates between the two groups.\")\n",
    "\n"
   ]
  },
  {
   "cell_type": "markdown",
   "metadata": {},
   "source": [
    "5. Use the same process to compare the acceptance rate between drivers who go to bars more than once a month and had passengers that were not a kid and had occupations other than farming, fishing, or forestry. \n"
   ]
  },
  {
   "cell_type": "code",
   "execution_count": 19,
   "metadata": {},
   "outputs": [
    {
     "name": "stdout",
     "output_type": "stream",
     "text": [
      "Acceptance rate for drivers who go to a bar more than once a month, had passengers that weren't kids, and had occupations other than farming, fishing, or forestry: nan%\n",
      "Acceptance rate for all others: 23.08%\n"
     ]
    }
   ],
   "source": [
    "# Step 1: Filter data for those who go to a bar more than once a month\n",
    "frequent_bar_visitors = bar_coupons[bar_coupons['Bar'].isin(['1 to 3', '4 to 8', 'greater than 8'])]\n",
    "\n",
    "# Step 2: Filter for those whose passengers were not kids\n",
    "no_kids_passengers = frequent_bar_visitors[frequent_bar_visitors['passanger'] != 'Kid(s)']\n",
    "\n",
    "# Step 3: Filter for drivers who had occupations other than farming, fishing, or forestry\n",
    "target_occupation = no_kids_passengers[~no_kids_passengers['occupation'].isin(['Farming, fishing, and forestry'])]\n",
    "\n",
    "# Step 4: Calculate the acceptance rate for this group\n",
    "acceptance_rate_target = target_occupation['Y'].mean()\n",
    "\n",
    "# Step 5: Calculate the acceptance rate for all others\n",
    "other_drivers = bar_coupons.drop(target_occupation.index)\n",
    "acceptance_rate_others = other_drivers['Y'].mean()\n",
    "\n",
    "# Print out the results\n",
    "print(f\"Acceptance rate for drivers who go to a bar more than once a month, had passengers that weren't kids, and had occupations other than farming, fishing, or forestry: {acceptance_rate_target:.2%}\")\n",
    "print(f\"Acceptance rate for all others: {acceptance_rate_others:.2%}\")\n"
   ]
  },
  {
   "cell_type": "markdown",
   "metadata": {},
   "source": [
    "6. Compare the acceptance rates between those drivers who:\n",
    "\n",
    "- go to bars more than once a month, had passengers that were not a kid, and were not widowed *OR*\n",
    "- go to bars more than once a month and are under the age of 30 *OR*\n",
    "- go to cheap restaurants more than 4 times a month and income is less than 50K. \n",
    "\n"
   ]
  },
  {
   "cell_type": "code",
   "execution_count": 20,
   "metadata": {},
   "outputs": [
    {
     "name": "stdout",
     "output_type": "stream",
     "text": [
      "Acceptance rate for Group A: nan%\n",
      "Acceptance rate for Group B: nan%\n",
      "Acceptance rate for Group C: nan%\n"
     ]
    }
   ],
   "source": [
    "# Group A\n",
    "group_A = cleaned_data[\n",
    "    (cleaned_data['Bar'].isin(['1 to 3', '4 to 8', 'greater than 8'])) & \n",
    "    (cleaned_data['passanger'] != 'Kid(s)') &\n",
    "    (cleaned_data['maritalStatus'] != 'Widowed')\n",
    "]\n",
    "acceptance_A = group_A['Y'].mean()\n",
    "\n",
    "# Group B\n",
    "under_30_ages = ['below21', '21', '26', '31']  # assuming these are the age categories representing under 30\n",
    "group_B = cleaned_data[\n",
    "    (cleaned_data['Bar'].isin(['1 to 3', '4 to 8', 'greater than 8'])) & \n",
    "    (cleaned_data['age'].isin(under_30_ages))\n",
    "]\n",
    "acceptance_B = group_B['Y'].mean()\n",
    "\n",
    "# Group C\n",
    "group_C = cleaned_data[\n",
    "    (cleaned_data['RestaurantLessThan20'].isin(['4~8', 'gt8'])) &\n",
    "    (cleaned_data['income'] == 'Less than $12500')  # assuming this category represents income < 50K\n",
    "]\n",
    "acceptance_C = group_C['Y'].mean()\n",
    "\n",
    "print(f\"Acceptance rate for Group A: {acceptance_A:.2%}\")\n",
    "print(f\"Acceptance rate for Group B: {acceptance_B:.2%}\")\n",
    "print(f\"Acceptance rate for Group C: {acceptance_C:.2%}\")"
   ]
  },
  {
   "cell_type": "code",
   "execution_count": 21,
   "metadata": {},
   "outputs": [
    {
     "name": "stdout",
     "output_type": "stream",
     "text": [
      "Number of observations in Group A: 0\n",
      "Number of observations in Group B: 0\n",
      "Number of observations in Group C: 0\n"
     ]
    }
   ],
   "source": [
    "print(f\"Number of observations in Group A: {len(group_A)}\")\n",
    "print(f\"Number of observations in Group B: {len(group_B)}\")\n",
    "print(f\"Number of observations in Group C: {len(group_C)}\")\n"
   ]
  },
  {
   "cell_type": "code",
   "execution_count": 22,
   "metadata": {},
   "outputs": [
    {
     "name": "stdout",
     "output_type": "stream",
     "text": [
      "['26' '41' '21']\n",
      "['Sales & Related' 'Legal' 'Computer & Mathematical'\n",
      " 'Office & Administrative Support']\n",
      "['1~3' 'less1']\n",
      "['$12500 - $24999' '$100000 or More' '$87500 - $99999' '$37500 - $49999']\n"
     ]
    }
   ],
   "source": [
    "print(bar_coupons['age'].unique())\n",
    "print(bar_coupons['occupation'].unique())\n",
    "print(bar_coupons['RestaurantLessThan20'].unique())\n",
    "print(bar_coupons['income'].unique())"
   ]
  },
  {
   "cell_type": "code",
   "execution_count": 23,
   "metadata": {},
   "outputs": [
    {
     "name": "stdout",
     "output_type": "stream",
     "text": [
      "Acceptance rate for Group A: nan%\n",
      "Acceptance rate for Group B: nan%\n",
      "Acceptance rate for Group C: 33.33%\n"
     ]
    }
   ],
   "source": [
    "# Given 'bar_coupons' is your data subset\n",
    "# Group A\n",
    "group_a = bar_coupons[(bar_coupons['Bar'].isin(['1~3', '4~8', 'greater than 8'])) & \n",
    "                      (bar_coupons['passanger'] != 'Kid(s)') & \n",
    "                      (bar_coupons['maritalStatus'] != 'Widowed')]\n",
    "\n",
    "# Group B\n",
    "group_b = bar_coupons[(bar_coupons['Bar'].isin(['1~3', '4~8', 'greater than 8'])) & \n",
    "                      (bar_coupons['age'].isin(['21', '26']))]\n",
    "\n",
    "# Group C (Based on the data's unique values, I'm adjusting this condition)\n",
    "group_c = bar_coupons[(bar_coupons['RestaurantLessThan20'] == '1~3') & \n",
    "                      (bar_coupons['income'] == '$12500 - $24999')]\n",
    "\n",
    "# Acceptance rates\n",
    "acceptance_rate_a = group_a['Y'].mean()\n",
    "acceptance_rate_b = group_b['Y'].mean()\n",
    "acceptance_rate_c = group_c['Y'].mean()\n",
    "\n",
    "print(f\"Acceptance rate for Group A: {acceptance_rate_a:.2%}\")\n",
    "print(f\"Acceptance rate for Group B: {acceptance_rate_b:.2%}\")\n",
    "print(f\"Acceptance rate for Group C: {acceptance_rate_c:.2%}\")\n"
   ]
  },
  {
   "cell_type": "markdown",
   "metadata": {},
   "source": [
    "7.  Based on these observations, what do you hypothesize about drivers who accepted the bar coupons?"
   ]
  },
  {
   "cell_type": "code",
   "execution_count": null,
   "metadata": {},
   "outputs": [],
   "source": [
    "# Income Levels: The acceptance rate for those with an income of $12500 - $24999 (from Group C) is notably high at 33.33%. This suggests that individuals in this income bracket may be more inclined to accept bar coupons, possibly because they are seeking cost-saving opportunities.\n",
    "\n",
    "# Frequent Visits to Cheap Restaurants: Those who frequently visit cheap restaurants (based on Group C) are likely to accept bar coupons. This behavior could indicate a tendency to look for deals or discounts when deciding where to eat or drink.\n",
    "\n",
    "# Age Factor: Although specific acceptance rates for the age group under 30 (from Group B) were not determined, age might be a relevant factor. Younger individuals might be more inclined to go out, and thus might be more receptive to such promotions.\n",
    "\n",
    "# Occupation and Marital Status: No specific data were provided on the acceptance rates for those not in farming, fishing, or forestry occupations or those who are not widowed (from Group A). However, these factors could play a role. For instance, individuals in certain occupations might have lifestyles or work hours that align more with going to bars. Similarly, marital status could influence social habits and the likelihood to accept certain types of promotions.\n",
    "\n",
    "# Passenger Type: It's implied that those with kid passengers are less likely to accept bar coupons, possibly because bars are not typically kid-friendly venues.\n",
    "\n",
    "# Absence of Data: The absence of data or very low numbers for Groups A and B might imply that such combinations of characteristics (like bar frequency, age, passenger type, occupation, and marital status) are uncommon or non-existent in the dataset. This itself is an insight, suggesting that, for instance, drivers under 30 who visit bars frequently might not be well-represented in the dataset."
   ]
  },
  {
   "cell_type": "markdown",
   "metadata": {},
   "source": [
    "### Independent Investigation\n",
    "\n",
    "Using the bar coupon example as motivation, you are to explore one of the other coupon groups and try to determine the characteristics of passengers who accept the coupons.  "
   ]
  },
  {
   "cell_type": "code",
   "execution_count": 24,
   "metadata": {},
   "outputs": [
    {
     "name": "stdout",
     "output_type": "stream",
     "text": [
      "Proportion of observations that accepted CoffeeHouse coupons: 51.35%\n"
     ]
    }
   ],
   "source": [
    "# Filter data for CoffeeHouse coupons\n",
    "coffeehouse_coupons = cleaned_data[cleaned_data['coupon'] == 'Coffee House']\n",
    "\n",
    "# Calculate the proportion of observations where the CoffeeHouse coupon was accepted\n",
    "coffeehouse_acceptance_rate = coffeehouse_coupons['Y'].mean()\n",
    "print(f\"Proportion of observations that accepted CoffeeHouse coupons: {coffeehouse_acceptance_rate:.2%}\")\n"
   ]
  },
  {
   "cell_type": "code",
   "execution_count": 25,
   "metadata": {},
   "outputs": [
    {
     "name": "stdout",
     "output_type": "stream",
     "text": [
      "Proportion of observations that accepted RestaurantLessThan20 coupons: nan%\n"
     ]
    }
   ],
   "source": [
    "# Filter data for RestaurantLessThan20 coupons\n",
    "restaurant_less_than_20_coupons = cleaned_data[cleaned_data['coupon'] == 'RestaurantLessThan20']\n",
    "\n",
    "# Calculate the proportion of observations where the RestaurantLessThan20 coupon was accepted\n",
    "restaurant_less_than_20_acceptance_rate = restaurant_less_than_20_coupons['Y'].mean()\n",
    "print(f\"Proportion of observations that accepted RestaurantLessThan20 coupons: {restaurant_less_than_20_acceptance_rate:.2%}\")"
   ]
  },
  {
   "cell_type": "code",
   "execution_count": 26,
   "metadata": {},
   "outputs": [
    {
     "name": "stdout",
     "output_type": "stream",
     "text": [
      "Number of observations in the RestaurantLessThan20 coupon group: 0\n"
     ]
    }
   ],
   "source": [
    "# Check the number of observations in the RestaurantLessThan20 coupon group\n",
    "num_observations = len(restaurant_less_than_20_coupons)\n",
    "print(f\"Number of observations in the RestaurantLessThan20 coupon group: {num_observations}\")"
   ]
  },
  {
   "cell_type": "code",
   "execution_count": null,
   "metadata": {},
   "outputs": [],
   "source": []
  },
  {
   "cell_type": "code",
   "execution_count": null,
   "metadata": {},
   "outputs": [],
   "source": []
  }
 ],
 "metadata": {
  "kernelspec": {
   "display_name": "Python 3 (ipykernel)",
   "language": "python",
   "name": "python3"
  },
  "language_info": {
   "codemirror_mode": {
    "name": "ipython",
    "version": 3
   },
   "file_extension": ".py",
   "mimetype": "text/x-python",
   "name": "python",
   "nbconvert_exporter": "python",
   "pygments_lexer": "ipython3",
   "version": "3.11.4"
  },
  "widgets": {
   "application/vnd.jupyter.widget-state+json": {
    "state": {},
    "version_major": 2,
    "version_minor": 0
   }
  }
 },
 "nbformat": 4,
 "nbformat_minor": 4
}
